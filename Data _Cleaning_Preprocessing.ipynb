import pandas as pd
import numpy as np
import ast
import re
import os
from datetime import datetime
from sklearn.preprocessing import LabelEncoder
from sklearn.model_selection import train_test_split, cross_val_score, RandomizedSearchCV
from sklearn.linear_model import LinearRegression, Lasso, Ridge
from sklearn.tree import DecisionTreeRegressor
from sklearn.ensemble import RandomForestRegressor, GradientBoostingRegressor
from sklearn.metrics import mean_absolute_error, mean_squared_error, r2_score
from sklearn.preprocessing import StandardScaler, OneHotEncoder
from sklearn.preprocessing import MinMaxScaler
from sklearn.compose import ColumnTransformer
from sklearn.pipeline import Pipeline
from sklearn.decomposition import PCA
from sklearn.impute import SimpleImputer
import seaborn as sns
import streamlit as st
from scipy.stats import mstats
import matplotlib.pyplot as plt
import warnings
from scipy import stats
import joblib

# Ignore warnings
warnings.filterwarnings("ignore")

# Function to clean input values
def clean_value(value):
    if pd.isna(value):
        return None
    elif isinstance(value, str):
        return value.strip()
    return value

# Function to safely convert string representations of dictionaries
def str_to_dict(value):
    if isinstance(value, dict):
        return value
    if isinstance(value, str):
        try:
            return ast.literal_eval(value)
        except (ValueError, SyntaxError):
            return {}
    return {}

# Function to clean kilometers driven values
def clean_kms_driven(value):
    if isinstance(value, str):
        return int(re.sub(r'\D', '', value))
    return value

# Function to clean price values
def clean_price(value):
    if isinstance(value, str):
        value = value.replace('₹', '').replace(',', '').strip()
        if 'Crore' in value:
            value = value.replace('Crore', '').strip()
            return float(value) * 10000000
        elif 'Lakh' in value:
            value = value.replace('Lakh', '').strip()
            return float(value) * 100000
        return float(value)
    if value:
        return value
    return None

# Function to clean registration year values
def clean_registration_year(value):
    if isinstance(value, str):
        return re.sub(r'\b[A-Za-z]{3,9}\s+', '', value)
    return value

# Function to clean other attributes
def clean_attribute(value, suffix):
    return re.sub(fr'\s*{suffix}', '', value) if isinstance(value, str) else value

# 1a. Import and concatenate datasets
file_paths = [
    'bangalore_cars.xlsx',
    'chennai_cars.xlsx',
    'delhi_cars.xlsx',
    'hyderabad_cars.xlsx',
    'jaipur_cars.xlsx',
    'kolkata_cars.xlsx'
]
dfs = []
for file_path in file_paths:
    df = pd.read_excel(file_path)
    location = file_path.split('_')[0].capitalize()
    df['City'] = location
    dfs.append(df)
combined_df = pd.concat(dfs, ignore_index=True)

# 1b. Process each row in the combined DataFrame
processed_rows = []

for index, row in combined_df.iterrows():
    new_car_detail = str_to_dict(row['new_car_detail'])
    flat_entry = {
        'Fuel Type': new_car_detail.get('ft'),
        'Body Type': new_car_detail.get('bt'),
        'Kms Driven': clean_kms_driven(new_car_detail.get('km')),
        'Transmission': new_car_detail.get('transmission'),
        'Owner': clean_value(new_car_detail.get('ownerNo')),
        'Owner Details': new_car_detail.get('owner'),
        'OEM': new_car_detail.get('oem'),
        'Model': new_car_detail.get('model'),
        'Model Year': clean_value(new_car_detail.get('modelYear')),
        'Variant Name': new_car_detail.get('variantName'),
        'Price': clean_price(new_car_detail.get('price')),
        'City': clean_value(row['City']),
        'Car Link': row.get('car_links')
    }
    
    if 'new_car_overview' in row:
        new_car_overview = str_to_dict(row['new_car_overview'])
        for item in new_car_overview.get('top', []):
            key = item.get('key')
            value = item.get('value')
            if key == 'Registration Year':
                flat_entry['Registration Year'] = clean_registration_year(value)
            elif key == 'Insurance Validity':
                flat_entry['Insurance Validity'] = value
            elif key == 'Seats':
                flat_entry['Seats'] = clean_attribute(value, 'Seats')
            elif key == 'Engine Displacement':
                flat_entry['Engine Displacement'] = clean_attribute(value, 'cc')
                
    if 'new_car_feature' in row:
        new_car_feature = str_to_dict(row['new_car_feature'])
        for feature in new_car_feature.get('top', []):
            value = feature.get('value')
            if value:
                flat_entry.setdefault('Entertainment', []).append(value)
        for category in new_car_feature.get('data', []):
            heading = category.get('heading', '')
            items = category.get('list', [])
            for item in items:
                value = item.get('value', '')
                if value:
                    flat_entry.setdefault(heading, []).append(value)

    processed_rows.append(flat_entry)

    if 'new_car_specs' in row:
        new_car_specs = str_to_dict(row['new_car_specs'])
        for spec in new_car_specs.get('top', []):
            key = spec.get('key')
            value = spec.get('value')
            if key == 'Mileage':
                flat_entry['Mileage'] = clean_attribute(value, 'kmpl')
            elif key == 'Engine':
                flat_entry['Engine'] = clean_attribute(value, 'CC')
            elif key == 'Max Power':
                flat_entry['Max Power'] = clean_attribute(value, 'bhp')
            elif key == 'Torque':
                flat_entry['Torque'] = clean_attribute(value, 'Nm')
            elif key == 'Wheel Size':
                flat_entry['Wheel Size'] = clean_value(value)
            elif key == 'Seats':
                flat_entry['Seating Capacity'] = clean_value(value)

# 1c. Create a DataFrame from the processed rows
processed_df = pd.DataFrame(processed_rows)

# 1d. Handling Missing Values
categorical_cols = [
    'Fuel Type', 'Body Type', 'Transmission', 'Owner Details', 'OEM', 'Model', 
    'Variant Name', 'City', 'Insurance Validity', 'Seats', 
    'Comfort & Convenience', 'Interior', 'Exterior', 'Safety', 
    'Entertainment', 'Car Link'
]

# Fill categorical columns with the mode
for col in categorical_cols:
    if processed_df[col].isnull().any():
        mode_value = processed_df[col].mode()[0]
        # Ensure we are filling with a scalar
        if isinstance(mode_value, list):
            mode_value = mode_value[0]  # Take the first item if mode is a list
        processed_df[col] = processed_df[col].fillna(mode_value)

numerical_cols = [
    'Kms Driven', 'Price', 'Registration Year',
    'Engine Displacement', 'Mileage', 'Engine',
    'Max Power', 'Torque', 'Seating Capacity', 'Wheel Size', 'Owner'
]

# Fill numerical columns with the median
for col in numerical_cols:
    processed_df[col] = pd.to_numeric(processed_df[col], errors='coerce')
    if processed_df[col].isnull().any():
        median_value = processed_df[col].median()
        # Ensure we are filling with a scalar
        if isinstance(median_value, list):
            median_value = median_value[0]  # Take the first item if median is a list
        processed_df[col] = processed_df[col].fillna(median_value)


# 1e. Standardizing Data Formats
float_columns = ['Mileage', 'Max Power', 'Torque']
for col in float_columns:
    processed_df[col] = pd.to_numeric(processed_df[col], errors='coerce').fillna(0.0)

int_columns = [
    'Price', 'Registration Year', 'Seats',
    'Engine Displacement', 'Engine', 'Seating Capacity', 'Wheel Size', 'Owner'
]
for col in int_columns:
    processed_df[col] = pd.to_numeric(processed_df[col], errors='coerce').fillna(0).astype(int)

# 1f. Feature Engineering
current_year = datetime.now().year
processed_df['Age of Car'] = current_year - processed_df['Registration Year']

# Set the limit for top N unique values
columns_to_drop = [
    'Variant Name', 
    'Car Link',
    'Owner Details',
    'Comfort & Convenience', 
    'Interior', 
    'Exterior', 
    'Entertainment & Communication',
    'Entertainment',
    'Safety'
]

# Step 2: Drop the specified categorical columns
df_dropped = processed_df.drop(columns=columns_to_drop, errors='ignore')

# Ensure that the 'Insurance Validity' column is cleaned and mapped to numeric values
def map_insurance_validity(value):
    if value == 'Third Party insurance':
        return 1
    elif value == 'Comprehensive':
        return 2
    elif value == 'Third Party':
        return 3
    elif value == 'Zero Dep':
        return 4
    elif value in ['1', '2', 'Not Available', '']:  # Includes empty strings
        return 0  # All these values will map to 0
    else:
        return -1  # for any unexpected values

# Apply mapping to the 'Insurance Validity' column
df_dropped['Insurance Validity'] = df_dropped['Insurance Validity'].apply(map_insurance_validity)

# Proceed with One-Hot Encoding and Label Encoding as before
# 1. Ensure all categorical columns exist, filling missing ones with 'Unknown'
columns_to_encode = ['Fuel Type', 'Body Type', 'Transmission', 'OEM', 'Model', 'City']
for col in columns_to_encode:
    if col not in df_dropped.columns:
        df_dropped[col] = 'Unknown'  # Fill missing columns with 'Unknown'

# 2. Apply one-hot encoding after ensuring all columns are present
df_encoded = pd.get_dummies(df_dropped, columns=columns_to_encode, drop_first=True)

# 3. Convert boolean columns to integers (0/1)
for col in df_encoded.columns:
    if df_encoded[col].dtype == 'bool':
        df_encoded[col] = df_encoded[col].astype(int)

# Now, df_encoded should have no missing columns and be ready for further use.


# Now, you can directly use df_encoded
df_cleaned = df_encoded.copy()

# Remove outliers using the Z-score method across multiple columns
def remove_outliers_z_score(df, columns, threshold=3):
    df_clean = df.copy()
    df_clean = df_clean.dropna(subset=columns)
    z_scores = np.abs(stats.zscore(df_clean[columns]))
    return df_clean[(z_scores < threshold).all(axis=1)]

# Numerical columns for outlier removal
numerical_columns = ['Price', 'Mileage'] 

# Apply Z-score based outlier removal
df_cleaned = remove_outliers_z_score(df_cleaned, numerical_columns)

# Check the final data shape
print(f"Data shape after outlier removal: {df_cleaned.shape}")

# Save the processed DataFrame to a CSV file with versioning
output_file = 'df_cleaned_car_details.csv'
base_name, ext = os.path.splitext(output_file)
version = 1
while os.path.exists(output_file):
    output_file = f"{base_name}_v{version}{ext}"
    version += 1

df_cleaned.to_csv(output_file, index=False)
print(f"Data has been processed and saved as {output_file}.")

output_file = 'combined_car_details.csv'
base_name, ext = os.path.splitext(output_file)
version = 1
while os.path.exists(output_file):
    output_file = f"{base_name}_v{version}{ext}"
    version += 1
processed_df.to_csv(output_file, index=False)
print(f"Data has been processed and saved as {output_file}.")
